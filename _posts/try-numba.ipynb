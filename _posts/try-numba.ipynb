{
 "metadata": {
  "name": "",
  "signature": "sha256:af7be5741d65a133f3bf229951c78a3b829bc12f71a4e951dfed724264e6bc47"
 },
 "nbformat": 3,
 "nbformat_minor": 0,
 "worksheets": [
  {
   "cells": [
    {
     "cell_type": "markdown",
     "metadata": {},
     "source": [
      "Python\u7684\u5faa\u73af\u662f\u6bd4\u8f83\u6162\u7684\uff1a"
     ]
    },
    {
     "cell_type": "code",
     "collapsed": false,
     "input": [
      "def loopsum(n):\n",
      "    x = 0\n",
      "    for i in range(n):\n",
      "        x = x+i"
     ],
     "language": "python",
     "metadata": {},
     "outputs": [],
     "prompt_number": 6
    },
    {
     "cell_type": "code",
     "collapsed": false,
     "input": [
      "%%timeit\n",
      "loopsum(10000)"
     ],
     "language": "python",
     "metadata": {},
     "outputs": [
      {
       "output_type": "stream",
       "stream": "stdout",
       "text": [
        "1000 loops, best of 3: 421 \u00b5s per loop\n"
       ]
      }
     ],
     "prompt_number": 7
    },
    {
     "cell_type": "markdown",
     "metadata": {},
     "source": [
      "\u7ed3\u679c\u8868\u793a\u5b8c\u62100\uff5e9999\u7684\u7d2f\u52a0\u5e73\u5747\u9700\u8981421 \u00b5s  \n",
      "\u4e0b\u9762\u52a0\u4e00\u53e5\u8bdd\uff0c\u7528num\u7684JIT\u6765\u52a0\u901f\u8bd5\u8bd5\u770b\uff1a  "
     ]
    },
    {
     "cell_type": "code",
     "collapsed": false,
     "input": [
      "from numba import jit"
     ],
     "language": "python",
     "metadata": {},
     "outputs": [],
     "prompt_number": 9
    },
    {
     "cell_type": "code",
     "collapsed": false,
     "input": [
      "@jit\n",
      "def loopsumJIT(n):\n",
      "    x = 0\n",
      "    for i in range(n):\n",
      "        x = x+i"
     ],
     "language": "python",
     "metadata": {},
     "outputs": [],
     "prompt_number": 19
    },
    {
     "cell_type": "code",
     "collapsed": false,
     "input": [
      "%%timeit\n",
      "loopsumJIT(10000)"
     ],
     "language": "python",
     "metadata": {},
     "outputs": [
      {
       "output_type": "stream",
       "stream": "stdout",
       "text": [
        "100000 loops, best of 3: 7.08 \u00b5s per loop\n"
       ]
      }
     ],
     "prompt_number": 20
    },
    {
     "cell_type": "markdown",
     "metadata": {},
     "source": [
      "**\u6548\u679c\u62d4\u7fa4!**  \n",
      "\u5c31\u8fd9\u4e48\u4e00\u53e5\u8bdd\uff0c\u52a0\u4e2adecorator,\u901f\u5ea6\u662f\u539f\u6765\u7684\u5dee\u4e0d\u591a60\u500d\uff01  \n",
      "\u4e0d\u50cf*Cython*,\u7528numba\u7684jit\u6839\u672c\u4e0d\u9700\u8981\u4fee\u6539\u7a0b\u5e8f\uff0c\u5b8c\u5168\u662f\u6807\u51c6Python\u7a0b\u5e8f\u3002\u52a0\u901f\u7b80\u76f4\u5c31\u50cf\u767d\u6361\u6765\u7684\u2026\u2026  \n",
      "\n",
      "numba\u7684jit\u8fd8\u53ef\u4ee5\u63a5\u53d7\u51fd\u6570**signature**\uff08\u51fd\u6570\u7c7b\u578b\uff09\uff0c\u6839\u636e\u7c7b\u578b\u4fe1\u606f\u8fdb\u4e00\u6b65\u4f18\u5316\uff1a  "
     ]
    },
    {
     "cell_type": "code",
     "collapsed": false,
     "input": [
      "@jit(\"void(int32)\")\n",
      "def loopsumJIT_Sig(n):\n",
      "    x = 0\n",
      "    for i in range(n):\n",
      "        x = x+i"
     ],
     "language": "python",
     "metadata": {},
     "outputs": [],
     "prompt_number": 21
    },
    {
     "cell_type": "code",
     "collapsed": false,
     "input": [
      "%%timeit\n",
      "loopsumJIT_Sig(10000)"
     ],
     "language": "python",
     "metadata": {},
     "outputs": [
      {
       "output_type": "stream",
       "stream": "stdout",
       "text": [
        "100000 loops, best of 3: 3.75 \u00b5s per loop\n"
       ]
      }
     ],
     "prompt_number": 22
    },
    {
     "cell_type": "markdown",
     "metadata": {},
     "source": [
      "\u8fd9\u4e0b\u901f\u5ea6\u662f\u539f\u6765\u7684**112\u500d**\u4e86  \n",
      "\u53ef\u60dc**signature**\u662fstring\u578b\u7684\uff0c\u800c\u4e14\u91c7\u7528\u7684\u662f\u7c7b\u4f3cC\u8bed\u8a00\u7684\u8bb0\u53f7"
     ]
    }
   ],
   "metadata": {}
  }
 ]
}